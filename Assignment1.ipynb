{
 "cells": [
  {
   "cell_type": "markdown",
   "metadata": {},
   "source": [
    "# 1. Checking Positive or Negative"
   ]
  },
  {
   "cell_type": "code",
   "execution_count": 13,
   "metadata": {},
   "outputs": [
    {
     "name": "stdout",
     "output_type": "stream",
     "text": [
      "Enter a Number:0\n",
      "0 is zero\n"
     ]
    }
   ],
   "source": [
    "x = int(input(\"Enter a Number:\"))\n",
    "if x<0:\n",
    " print(x,\" is negative\")\n",
    "elif x>0:\n",
    " print(x, \"is positive\")\n",
    "else:\n",
    " print(x, \"is zero\")\n",
    "        "
   ]
  },
  {
   "cell_type": "markdown",
   "metadata": {},
   "source": [
    "# 2. Checking Odd or Even"
   ]
  },
  {
   "cell_type": "code",
   "execution_count": 15,
   "metadata": {},
   "outputs": [
    {
     "name": "stdout",
     "output_type": "stream",
     "text": [
      "Enter a Number:5\n",
      "5 is odd\n"
     ]
    }
   ],
   "source": [
    "x = int(input(\"Enter a Number:\"))\n",
    "if x%2 == 0:\n",
    " print(x,\"is even\")\n",
    "else:\n",
    " print(x,\"is odd\")\n",
    "    "
   ]
  },
  {
   "cell_type": "markdown",
   "metadata": {},
   "source": [
    "# 3. Checking Leap year or not"
   ]
  },
  {
   "cell_type": "code",
   "execution_count": 2,
   "metadata": {},
   "outputs": [
    {
     "name": "stdout",
     "output_type": "stream",
     "text": [
      "Enter a year:2000\n",
      "2000 is a leap year\n"
     ]
    }
   ],
   "source": [
    "x = int(input(\"Enter a year:\"))\n",
    "if x%4 ==0:\n",
    " print(x,\"is a leap year\")\n",
    "else:\n",
    " print(x, \"is not a leap year\")"
   ]
  },
  {
   "cell_type": "markdown",
   "metadata": {},
   "source": [
    "# 4. Find the Largest among Three Numbers"
   ]
  },
  {
   "cell_type": "code",
   "execution_count": 23,
   "metadata": {},
   "outputs": [
    {
     "name": "stdout",
     "output_type": "stream",
     "text": [
      "Enter Number1:8\n",
      "Enter Number2:2\n",
      "Enter Number3:0\n",
      "8\n"
     ]
    }
   ],
   "source": [
    "x = int(input(\"Enter Number1:\"))\n",
    "y = int(input(\"Enter Number2:\"))\n",
    "z = int(input(\"Enter Number3:\"))\n",
    "mylist = [x,y,z];\n",
    "mylist.sort()\n",
    "print(mylist[len(mylist)-1])"
   ]
  },
  {
   "cell_type": "markdown",
   "metadata": {},
   "source": [
    "# 5. Print number of days in a given month"
   ]
  },
  {
   "cell_type": "code",
   "execution_count": 29,
   "metadata": {},
   "outputs": [
    {
     "name": "stdout",
     "output_type": "stream",
     "text": [
      "Enter a month:Feb\n",
      "Feb - 28/29\n"
     ]
    }
   ],
   "source": [
    "x = input(\"Enter a month:\")\n",
    "mydict = {\n",
    "    \"Jan\":31,\n",
    "    \"Feb\": \"28/29\",\n",
    "    \"Mar\":31,\n",
    "    \"April\":30,\n",
    "    \"May\":31,\n",
    "    \"June\":30,\n",
    "    \"July\":31,\n",
    "    \"Aug\":31,\n",
    "    \"Sep\":30,\n",
    "    \"Oct\":31,\n",
    "    \"Nov\":30,\n",
    "    \"Dec\":31\n",
    "}\n",
    "print(x,\"-\" ,mydict[x])\n"
   ]
  },
  {
   "cell_type": "markdown",
   "metadata": {},
   "source": [
    "# 6. Checking prime or not"
   ]
  },
  {
   "cell_type": "code",
   "execution_count": 12,
   "metadata": {},
   "outputs": [
    {
     "name": "stdout",
     "output_type": "stream",
     "text": [
      "Enter range to find all primenumbers in that interval\n",
      "Enter minimum value in interval2\n",
      "Enter maximum value of an interval25\n",
      "2\n",
      "3\n",
      "5\n",
      "7\n",
      "11\n",
      "13\n",
      "17\n",
      "19\n",
      "23\n"
     ]
    }
   ],
   "source": [
    "print(\"Enter range to find all primenumbers in that interval\") \n",
    "min = int(input(\"Enter minimum value in interval\")) \n",
    "max = int(input(\"Enter maximum value of an interval\")) \n",
    "for num in range(min,max + 1): \n",
    " if num > 1: \n",
    "  for i in range(2,num): \n",
    "   if (num % i) == 0: \n",
    "    break \n",
    "  else: \n",
    "   print(num) \n",
    "\n",
    "        \n",
    "\n",
    "\n"
   ]
  },
  {
   "cell_type": "markdown",
   "metadata": {},
   "source": [
    "# 7. Factorial of a number"
   ]
  },
  {
   "cell_type": "code",
   "execution_count": 3,
   "metadata": {},
   "outputs": [
    {
     "name": "stdout",
     "output_type": "stream",
     "text": [
      "Enter a Number:5\n",
      "120\n"
     ]
    }
   ],
   "source": [
    "x = int(input(\"Enter a Number:\"))\n",
    "fact = 1\n",
    "for i in range (1,x+1):\n",
    " fact = fact*i\n",
    "print(fact)"
   ]
  },
  {
   "cell_type": "markdown",
   "metadata": {},
   "source": [
    "# 8. Multiplication Table"
   ]
  },
  {
   "cell_type": "code",
   "execution_count": 4,
   "metadata": {},
   "outputs": [
    {
     "name": "stdout",
     "output_type": "stream",
     "text": [
      "Enter a Number:5\n",
      "5 * 1 = 5\n",
      "5 * 2 = 10\n",
      "5 * 3 = 15\n",
      "5 * 4 = 20\n",
      "5 * 5 = 25\n",
      "5 * 6 = 30\n",
      "5 * 7 = 35\n",
      "5 * 8 = 40\n",
      "5 * 9 = 45\n",
      "5 * 10 = 50\n"
     ]
    }
   ],
   "source": [
    "x  = int(input(\"Enter a Number:\"))\n",
    "for i in range(1,11):\n",
    " print(x,\"*\",i, \"=\", x*i)"
   ]
  },
  {
   "cell_type": "markdown",
   "metadata": {},
   "source": [
    "# 9. Fibonacci Series"
   ]
  },
  {
   "cell_type": "code",
   "execution_count": 5,
   "metadata": {},
   "outputs": [
    {
     "name": "stdout",
     "output_type": "stream",
     "text": [
      "Enter a number:5\n",
      "The fibonacci series:\n",
      "0\n",
      "1\n",
      "1\n",
      "2\n",
      "3\n"
     ]
    }
   ],
   "source": [
    "a = 0\n",
    "b = 1\n",
    "x = int(input(\"Enter a number:\"))\n",
    "print(\"The fibonacci series:\")\n",
    "print(a)\n",
    "for i in range (1,x):\n",
    " if i <= 1:\n",
    "  c = 1\n",
    " else:\n",
    "  c = a+b\n",
    "  a = b\n",
    "  b = c\n",
    " print(c)"
   ]
  },
  {
   "cell_type": "markdown",
   "metadata": {},
   "source": [
    "# 10.Sum of Natural Number"
   ]
  },
  {
   "cell_type": "code",
   "execution_count": null,
   "metadata": {},
   "outputs": [],
   "source": [
    "n = int(input(\"Enter a number:\"))\n",
    "sum = 0\n",
    "for i in range (1,n+1):\n",
    " sum = sum + i\n",
    "print(sum)"
   ]
  },
  {
   "cell_type": "code",
   "execution_count": null,
   "metadata": {},
   "outputs": [],
   "source": [
    "\n"
   ]
  }
 ],
 "metadata": {
  "kernelspec": {
   "display_name": "Python 3",
   "language": "python",
   "name": "python3"
  },
  "language_info": {
   "codemirror_mode": {
    "name": "ipython",
    "version": 3
   },
   "file_extension": ".py",
   "mimetype": "text/x-python",
   "name": "python",
   "nbconvert_exporter": "python",
   "pygments_lexer": "ipython3",
   "version": "3.6.4"
  }
 },
 "nbformat": 4,
 "nbformat_minor": 2
}
